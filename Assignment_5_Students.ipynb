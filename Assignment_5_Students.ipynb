{
  "nbformat": 4,
  "nbformat_minor": 0,
  "metadata": {
    "colab": {
      "provenance": [],
      "authorship_tag": "ABX9TyMat6a0AsLcokd7rmNUdtBv",
      "include_colab_link": true
    },
    "kernelspec": {
      "name": "python3",
      "display_name": "Python 3"
    },
    "language_info": {
      "name": "python"
    }
  },
  "cells": [
    {
      "cell_type": "markdown",
      "metadata": {
        "id": "view-in-github",
        "colab_type": "text"
      },
      "source": [
        "<a href=\"https://colab.research.google.com/github/HumanAndMachineHearing/Practical_2023/blob/main/Assignment_5_Students.ipynb\" target=\"_parent\"><img src=\"https://colab.research.google.com/assets/colab-badge.svg\" alt=\"Open In Colab\"/></a>"
      ]
    },
    {
      "cell_type": "markdown",
      "source": [
        "# **Programming Assignment 5. Evaluating sound classification results**\n",
        "\n",
        "## 1. Introduction\n",
        "\n",
        "In Session 5, you will evaluate the performance of the trained ResNet-18 model and analyze the classification results.\n",
        "\n",
        "**Practical Report**\n",
        "<br>\n",
        "Add the output of the exercises and the answers to the questions as they are defined in this Notebook to your Practical Report. A link to the templates for the practical reports can be found in the Readme file.\n",
        "<br>\n",
        "<br>\n",
        "## Preparation\n",
        "Before starting with the exercises, import the libraries that are essential for these exercises."
      ],
      "metadata": {
        "id": "MG_edqWQ2sLR"
      }
    },
    {
      "cell_type": "code",
      "source": [
        "# Mount Google Drive\n",
        "from google.colab import drive\n",
        "drive.mount('/content/drive')"
      ],
      "metadata": {
        "id": "Ss_KSSvCaW3W",
        "colab": {
          "base_uri": "https://localhost:8080/"
        },
        "outputId": "a327faf1-6e80-44ee-c2dd-e588c0110855"
      },
      "execution_count": null,
      "outputs": [
        {
          "output_type": "stream",
          "name": "stdout",
          "text": [
            "Mounted at /content/drive\n"
          ]
        }
      ]
    },
    {
      "cell_type": "code",
      "source": [
        "# Change directory to folder that contains all required scripts\n",
        "%cd /content/drive/MyDrive/soundclass_resnet18/\n",
        "\n",
        "# Check whether this folder contains the required scripts.\n",
        "!ls"
      ],
      "metadata": {
        "id": "CUu43fr4aYsi"
      },
      "execution_count": null,
      "outputs": []
    },
    {
      "cell_type": "markdown",
      "source": [
        "#2. Perform inference with trained model.\n",
        "\n",
        "Make sure that the model that you want to evaluate is stored in the current directory.\n",
        "\n",
        "## Preparation\n",
        "\n",
        "Set the following parameters in the file `test_resnet_esc50.py`\n",
        "\n",
        "* Name .csv metadata file in `filename_csv =  NAME_CSV_FILE`\n",
        "* Name of file with key-value pairs in `filename_keypair = NAME_KEYPAIR_FILE`\n",
        "* Name of saved model state dict in `filename_model = NAME_MODEL`\n",
        "* Name of file to be saved with predictions and true labels for analyzing performance in `filename_predictions = NAME_PREDICTION_FILE`\n",
        "<br>\n",
        "<br>\n",
        "\n",
        "## Evaluate\n"
      ],
      "metadata": {
        "id": "BdHp8nDkaBuw"
      }
    },
    {
      "cell_type": "code",
      "execution_count": null,
      "metadata": {
        "id": "QcRZOxR32p87"
      },
      "outputs": [],
      "source": [
        "# Model evaluation\n",
        "!python test_resnet_esc50.py"
      ]
    },
    {
      "cell_type": "markdown",
      "source": [
        "**Exercise 5.1**\n",
        "Describe the classification accuracy of your models on the held-out dataset.\n",
        "<br><br>\n",
        "#3. Analyze results\n",
        "Load the predictions and true labels to analyze the performance of your model in more detail. Include the following metrics: precision, recall, F1-score.\n",
        "\n",
        "**Exercise 5.2:**\n",
        "<br>\n",
        "(A) Describe what the above mentioned evaluation metrics (and others if included) measure and the results for your models. Use these metrics for an interpretation of the performance of your model.\n",
        "<br>\n",
        "(B) Calculate a confusion matrix showing the accuracy (percentage) per class for each of your models. Use the confusion matrices to describe which classes were classified most accurately and which classes had more errors.\n"
      ],
      "metadata": {
        "id": "cyo2y2OlZpl0"
      }
    },
    {
      "cell_type": "code",
      "source": [
        "# Load predictions\n",
        "results = pd.read_csv(os.path.join(filepath,filename_predictions))\n",
        "\n",
        "\n",
        "# Add your code for analysing results here\n"
      ],
      "metadata": {
        "id": "-ItyQ4VdYXsC"
      },
      "execution_count": null,
      "outputs": []
    },
    {
      "cell_type": "markdown",
      "source": [
        "#4. Discuss results\n",
        "\n",
        "**Exercise 5.3:**<br>\n",
        "Write a discussion section for your report in which you interpret your findings. Include suggestions for improving classification performance on this task."
      ],
      "metadata": {
        "id": "PAz5QR6NcwQL"
      }
    }
  ]
}